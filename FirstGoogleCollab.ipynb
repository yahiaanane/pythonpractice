{
  "nbformat": 4,
  "nbformat_minor": 0,
  "metadata": {
    "colab": {
      "name": "FirstGoogleCollab.ipynb",
      "provenance": [],
      "collapsed_sections": [],
      "mount_file_id": "1mQCVBvD2ERXRi6QgPejgorDa2MOL_taY",
      "authorship_tag": "ABX9TyNSeNC3mKCw1BMBa+eDgp/t"
    },
    "kernelspec": {
      "name": "python3",
      "display_name": "Python 3"
    },
    "language_info": {
      "name": "python"
    },
    "accelerator": "GPU"
  },
  "cells": [
    {
      "cell_type": "code",
      "metadata": {
        "id": "uCX2wZyE_Bgr"
      },
      "source": [
        "from fastbook import *"
      ],
      "execution_count": null,
      "outputs": []
    },
    {
      "cell_type": "code",
      "metadata": {
        "colab": {
          "base_uri": "https://localhost:8080/"
        },
        "id": "oCK95KZt_vJy",
        "outputId": "78c475ce-1719-4e04-debc-e8f6d6c0a673"
      },
      "source": [
        "print ('my first project on deep learning fast.ai')\n",
        "print ('my second messege')"
      ],
      "execution_count": null,
      "outputs": [
        {
          "output_type": "stream",
          "text": [
            "my first project on deep learning fast.ai\n",
            "my second messege\n"
          ],
          "name": "stdout"
        }
      ]
    }
  ]
}